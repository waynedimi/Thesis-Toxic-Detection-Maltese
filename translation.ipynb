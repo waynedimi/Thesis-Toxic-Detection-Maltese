{
 "cells": [
  {
   "cell_type": "markdown",
   "metadata": {},
   "source": [
    "# Getting Files"
   ]
  },
  {
   "cell_type": "code",
   "execution_count": 35,
   "metadata": {},
   "outputs": [
    {
     "name": "stdout",
     "output_type": "stream",
     "text": [
      "Dataset_English/jigsaw-toxic-comment-classification-challenge\\sample_submission.csv.zip\n",
      "Dataset_English/jigsaw-toxic-comment-classification-challenge\\test.csv.zip\n",
      "Dataset_English/jigsaw-toxic-comment-classification-challenge\\test_labels.csv.zip\n",
      "Dataset_English/jigsaw-toxic-comment-classification-challenge\\train.csv.zip\n"
     ]
    }
   ],
   "source": [
    "import numpy as np \n",
    "import pandas as pd \n",
    "\n",
    "import os\n",
    "for dirname, _, filenames in os.walk('Dataset_English/'):\n",
    "    for filename in filenames:\n",
    "        print(os.path.join(dirname, filename))"
   ]
  },
  {
   "cell_type": "markdown",
   "metadata": {},
   "source": [
    "# Load Data"
   ]
  },
  {
   "cell_type": "code",
   "execution_count": 36,
   "metadata": {},
   "outputs": [],
   "source": [
    "train_data = pd.read_csv('Dataset_English/jigsaw-toxic-comment-classification-challenge/train.csv.zip')\n",
    "test_data = pd.read_csv('Dataset_English/jigsaw-toxic-comment-classification-challenge/test.csv.zip')\n",
    "test_labels = pd.read_csv('Dataset_English/jigsaw-toxic-comment-classification-challenge/test_labels.csv.zip')"
   ]
  },
  {
   "cell_type": "markdown",
   "metadata": {},
   "source": [
    "# Reviewing Data"
   ]
  },
  {
   "cell_type": "code",
   "execution_count": 37,
   "metadata": {},
   "outputs": [
    {
     "data": {
      "text/plain": [
       "(159571, 8)"
      ]
     },
     "execution_count": 37,
     "metadata": {},
     "output_type": "execute_result"
    }
   ],
   "source": [
    "train_data.shape"
   ]
  },
  {
   "cell_type": "code",
   "execution_count": 38,
   "metadata": {},
   "outputs": [
    {
     "name": "stdout",
     "output_type": "stream",
     "text": [
      "62882658\n"
     ]
    }
   ],
   "source": [
    "total_Characters = train_data['comment_text'].apply(len).sum()\n",
    "\n",
    "print(total_Characters) #38586359  62882658"
   ]
  },
  {
   "cell_type": "code",
   "execution_count": 39,
   "metadata": {},
   "outputs": [
    {
     "name": "stdout",
     "output_type": "stream",
     "text": [
      "<class 'pandas.core.frame.DataFrame'>\n",
      "RangeIndex: 159571 entries, 0 to 159570\n",
      "Data columns (total 8 columns):\n",
      " #   Column         Non-Null Count   Dtype \n",
      "---  ------         --------------   ----- \n",
      " 0   id             159571 non-null  object\n",
      " 1   comment_text   159571 non-null  object\n",
      " 2   toxic          159571 non-null  int64 \n",
      " 3   severe_toxic   159571 non-null  int64 \n",
      " 4   obscene        159571 non-null  int64 \n",
      " 5   threat         159571 non-null  int64 \n",
      " 6   insult         159571 non-null  int64 \n",
      " 7   identity_hate  159571 non-null  int64 \n",
      "dtypes: int64(6), object(2)\n",
      "memory usage: 9.7+ MB\n"
     ]
    }
   ],
   "source": [
    "train_data.info()"
   ]
  },
  {
   "cell_type": "markdown",
   "metadata": {},
   "source": [
    "# Checking for imbalance data"
   ]
  },
  {
   "cell_type": "code",
   "execution_count": 40,
   "metadata": {},
   "outputs": [
    {
     "data": {
      "text/plain": [
       "array(['toxic', 'severe_toxic', 'obscene', 'threat', 'insult',\n",
       "       'identity_hate'], dtype=object)"
      ]
     },
     "execution_count": 40,
     "metadata": {},
     "output_type": "execute_result"
    }
   ],
   "source": [
    "labels_cols = (train_data.drop(['id', 'comment_text'], axis=1)).columns.values\n",
    "labels_cols"
   ]
  },
  {
   "cell_type": "code",
   "execution_count": 41,
   "metadata": {},
   "outputs": [
    {
     "name": "stdout",
     "output_type": "stream",
     "text": [
      "toxic            0\n",
      "severe_toxic     0\n",
      "obscene          0\n",
      "threat           0\n",
      "insult           0\n",
      "identity_hate    0\n",
      "dtype: int64\n"
     ]
    }
   ],
   "source": [
    "print(train_data[labels_cols].isnull().sum())"
   ]
  },
  {
   "cell_type": "code",
   "execution_count": 42,
   "metadata": {},
   "outputs": [
    {
     "name": "stdout",
     "output_type": "stream",
     "text": [
      "toxic            15294\n",
      "severe_toxic      1595\n",
      "obscene           8449\n",
      "threat             478\n",
      "insult            7877\n",
      "identity_hate     1405\n",
      "dtype: int64\n"
     ]
    }
   ],
   "source": [
    "print(train_data[labels_cols].sum())"
   ]
  },
  {
   "cell_type": "code",
   "execution_count": 43,
   "metadata": {},
   "outputs": [
    {
     "data": {
      "text/html": [
       "<div>\n",
       "<style scoped>\n",
       "    .dataframe tbody tr th:only-of-type {\n",
       "        vertical-align: middle;\n",
       "    }\n",
       "\n",
       "    .dataframe tbody tr th {\n",
       "        vertical-align: top;\n",
       "    }\n",
       "\n",
       "    .dataframe thead th {\n",
       "        text-align: right;\n",
       "    }\n",
       "</style>\n",
       "<table border=\"1\" class=\"dataframe\">\n",
       "  <thead>\n",
       "    <tr style=\"text-align: right;\">\n",
       "      <th></th>\n",
       "      <th>id</th>\n",
       "      <th>comment_text</th>\n",
       "      <th>toxic</th>\n",
       "      <th>severe_toxic</th>\n",
       "      <th>obscene</th>\n",
       "      <th>threat</th>\n",
       "      <th>insult</th>\n",
       "      <th>identity_hate</th>\n",
       "    </tr>\n",
       "  </thead>\n",
       "  <tbody>\n",
       "    <tr>\n",
       "      <th>0</th>\n",
       "      <td>0000997932d777bf</td>\n",
       "      <td>Explanation\\nWhy the edits made under my usern...</td>\n",
       "      <td>0</td>\n",
       "      <td>0</td>\n",
       "      <td>0</td>\n",
       "      <td>0</td>\n",
       "      <td>0</td>\n",
       "      <td>0</td>\n",
       "    </tr>\n",
       "    <tr>\n",
       "      <th>1</th>\n",
       "      <td>000103f0d9cfb60f</td>\n",
       "      <td>D'aww! He matches this background colour I'm s...</td>\n",
       "      <td>0</td>\n",
       "      <td>0</td>\n",
       "      <td>0</td>\n",
       "      <td>0</td>\n",
       "      <td>0</td>\n",
       "      <td>0</td>\n",
       "    </tr>\n",
       "    <tr>\n",
       "      <th>2</th>\n",
       "      <td>000113f07ec002fd</td>\n",
       "      <td>Hey man, I'm really not trying to edit war. It...</td>\n",
       "      <td>0</td>\n",
       "      <td>0</td>\n",
       "      <td>0</td>\n",
       "      <td>0</td>\n",
       "      <td>0</td>\n",
       "      <td>0</td>\n",
       "    </tr>\n",
       "    <tr>\n",
       "      <th>3</th>\n",
       "      <td>0001b41b1c6bb37e</td>\n",
       "      <td>\"\\nMore\\nI can't make any real suggestions on ...</td>\n",
       "      <td>0</td>\n",
       "      <td>0</td>\n",
       "      <td>0</td>\n",
       "      <td>0</td>\n",
       "      <td>0</td>\n",
       "      <td>0</td>\n",
       "    </tr>\n",
       "    <tr>\n",
       "      <th>4</th>\n",
       "      <td>0001d958c54c6e35</td>\n",
       "      <td>You, sir, are my hero. Any chance you remember...</td>\n",
       "      <td>0</td>\n",
       "      <td>0</td>\n",
       "      <td>0</td>\n",
       "      <td>0</td>\n",
       "      <td>0</td>\n",
       "      <td>0</td>\n",
       "    </tr>\n",
       "  </tbody>\n",
       "</table>\n",
       "</div>"
      ],
      "text/plain": [
       "                 id                                       comment_text  toxic  \\\n",
       "0  0000997932d777bf  Explanation\\nWhy the edits made under my usern...      0   \n",
       "1  000103f0d9cfb60f  D'aww! He matches this background colour I'm s...      0   \n",
       "2  000113f07ec002fd  Hey man, I'm really not trying to edit war. It...      0   \n",
       "3  0001b41b1c6bb37e  \"\\nMore\\nI can't make any real suggestions on ...      0   \n",
       "4  0001d958c54c6e35  You, sir, are my hero. Any chance you remember...      0   \n",
       "\n",
       "   severe_toxic  obscene  threat  insult  identity_hate  \n",
       "0             0        0       0       0              0  \n",
       "1             0        0       0       0              0  \n",
       "2             0        0       0       0              0  \n",
       "3             0        0       0       0              0  \n",
       "4             0        0       0       0              0  "
      ]
     },
     "execution_count": 43,
     "metadata": {},
     "output_type": "execute_result"
    }
   ],
   "source": [
    "train_data.head()"
   ]
  },
  {
   "cell_type": "markdown",
   "metadata": {},
   "source": [
    "# Pre-Processing Stage"
   ]
  },
  {
   "cell_type": "code",
   "execution_count": 58,
   "metadata": {},
   "outputs": [
    {
     "name": "stderr",
     "output_type": "stream",
     "text": [
      "[nltk_data] Downloading package stopwords to C:\\Users\\Family-\n",
      "[nltk_data]     PC\\AppData\\Roaming\\nltk_data...\n",
      "[nltk_data]   Package stopwords is already up-to-date!\n",
      "[nltk_data] Downloading package punkt to C:\\Users\\Family-\n",
      "[nltk_data]     PC\\AppData\\Roaming\\nltk_data...\n",
      "[nltk_data]   Package punkt is already up-to-date!\n"
     ]
    }
   ],
   "source": [
    "import re \n",
    "import nltk\n",
    "from nltk.corpus import stopwords\n",
    "\n",
    "\n",
    "nltk.download(\"stopwords\")\n",
    "nltk.download('punkt')\n",
    "stop_words = set(stopwords.words(\"english\"))\n",
    "\n",
    "#stemmer = SnowballStemmer(\"english\")\n"
   ]
  },
  {
   "cell_type": "code",
   "execution_count": 59,
   "metadata": {},
   "outputs": [],
   "source": [
    "import contractions\n",
    "from contractions import fix as contractions_fix\n",
    "from nltk.tokenize import word_tokenize\n",
    "from nltk.stem import SnowballStemmer\n",
    "import string\n",
    "\n",
    "def drop_stop_words(text):\n",
    "    words = word_tokenize(text)\n",
    "    wordsFiltered = []\n",
    "    for w in words:\n",
    "        if w.lower() not in stop_words:\n",
    "            wordsFiltered.append(w)\n",
    "\n",
    "    wordsFiltered = \" \".join(wordsFiltered)\n",
    "    return wordsFiltered\n",
    "\n",
    "\n",
    "def remove_elongation(text):\n",
    "    pattern = re.compile(r\"(.)\\1{2,}\")\n",
    "    return pattern.sub(r\"\\1\", text)\n",
    "\n",
    "\n",
    "def clean_text(text):\n",
    "    try:\n",
    "        url_pattern = r'https?://\\S+|www\\.\\S+'\n",
    "        text = re.sub(url_pattern, '', text)\n",
    "        \n",
    "        text = re.sub(r'#', '', text).strip()\n",
    "        \n",
    "        text = contractions.fix(text) # remove_punc\n",
    "        text = text.translate(str.maketrans('', '', string.punctuation))\n",
    "        \n",
    "        extract_words = re.compile(r'\\W+')  # remove_non_word\n",
    "        text = extract_words.sub(' ', text)\n",
    "\n",
    "        text = drop_stop_words(text)\n",
    "        text = re.sub('[^a-zA-Z\\s]', '', text) # remove_non_English_word\n",
    "        \n",
    "        text = re.sub(r'user(?:name)?\\s', '', text) # remove_username\n",
    "        text = remove_elongation(text)\n",
    "\n",
    "        return text\n",
    "    except Exception as e:\n",
    "        print(\"Error processing text:\", e)\n",
    "        return text  # Return the original text if an error occurs\"\"\""
   ]
  },
  {
   "cell_type": "code",
   "execution_count": 60,
   "metadata": {},
   "outputs": [],
   "source": [
    "# train_data['isToxic'] = train_data[['toxic', 'severe_toxic', 'obscene', 'threat', 'insult', 'identity_hate']].any(axis=1).astype(int)"
   ]
  },
  {
   "cell_type": "code",
   "execution_count": 61,
   "metadata": {},
   "outputs": [],
   "source": [
    "train_data['comment_text'] = train_data[\"comment_text\"].apply(lambda x: clean_text(x))"
   ]
  },
  {
   "cell_type": "code",
   "execution_count": 62,
   "metadata": {},
   "outputs": [
    {
     "ename": "KeyError",
     "evalue": "\"None of [Index(['toxic', 'severe_toxic', 'obscene', 'threat', 'insult',\\n       'identity_hate'],\\n      dtype='object')] are in the [columns]\"",
     "output_type": "error",
     "traceback": [
      "\u001b[1;31m---------------------------------------------------------------------------\u001b[0m",
      "\u001b[1;31mKeyError\u001b[0m                                  Traceback (most recent call last)",
      "Cell \u001b[1;32mIn[62], line 2\u001b[0m\n\u001b[0;32m      1\u001b[0m \u001b[38;5;66;03m# train_data['isToxic'] = train_data[['toxic', 'severe_toxic' , 'threat' , 'insult']].any(axis=1).astype(int)\u001b[39;00m\n\u001b[1;32m----> 2\u001b[0m train_data[\u001b[38;5;124m'\u001b[39m\u001b[38;5;124misToxic\u001b[39m\u001b[38;5;124m'\u001b[39m] \u001b[38;5;241m=\u001b[39m \u001b[43mtrain_data\u001b[49m\u001b[43m[\u001b[49m\u001b[43m[\u001b[49m\u001b[38;5;124;43m'\u001b[39;49m\u001b[38;5;124;43mtoxic\u001b[39;49m\u001b[38;5;124;43m'\u001b[39;49m\u001b[43m,\u001b[49m\u001b[43m \u001b[49m\u001b[38;5;124;43m'\u001b[39;49m\u001b[38;5;124;43msevere_toxic\u001b[39;49m\u001b[38;5;124;43m'\u001b[39;49m\u001b[43m,\u001b[49m\u001b[43m \u001b[49m\u001b[38;5;124;43m'\u001b[39;49m\u001b[38;5;124;43mobscene\u001b[39;49m\u001b[38;5;124;43m'\u001b[39;49m\u001b[43m,\u001b[49m\u001b[43m \u001b[49m\u001b[38;5;124;43m'\u001b[39;49m\u001b[38;5;124;43mthreat\u001b[39;49m\u001b[38;5;124;43m'\u001b[39;49m\u001b[43m,\u001b[49m\u001b[43m \u001b[49m\u001b[38;5;124;43m'\u001b[39;49m\u001b[38;5;124;43minsult\u001b[39;49m\u001b[38;5;124;43m'\u001b[39;49m\u001b[43m,\u001b[49m\u001b[43m \u001b[49m\u001b[38;5;124;43m'\u001b[39;49m\u001b[38;5;124;43midentity_hate\u001b[39;49m\u001b[38;5;124;43m'\u001b[39;49m\u001b[43m]\u001b[49m\u001b[43m]\u001b[49m\u001b[38;5;241m.\u001b[39many(axis\u001b[38;5;241m=\u001b[39m\u001b[38;5;241m1\u001b[39m)\u001b[38;5;241m.\u001b[39mastype(\u001b[38;5;28mint\u001b[39m)\n",
      "File \u001b[1;32mc:\\Users\\Family-PC\\miniconda3\\envs\\thesis\\lib\\site-packages\\pandas\\core\\frame.py:3767\u001b[0m, in \u001b[0;36mDataFrame.__getitem__\u001b[1;34m(self, key)\u001b[0m\n\u001b[0;32m   3765\u001b[0m     \u001b[38;5;28;01mif\u001b[39;00m is_iterator(key):\n\u001b[0;32m   3766\u001b[0m         key \u001b[38;5;241m=\u001b[39m \u001b[38;5;28mlist\u001b[39m(key)\n\u001b[1;32m-> 3767\u001b[0m     indexer \u001b[38;5;241m=\u001b[39m \u001b[38;5;28;43mself\u001b[39;49m\u001b[38;5;241;43m.\u001b[39;49m\u001b[43mcolumns\u001b[49m\u001b[38;5;241;43m.\u001b[39;49m\u001b[43m_get_indexer_strict\u001b[49m\u001b[43m(\u001b[49m\u001b[43mkey\u001b[49m\u001b[43m,\u001b[49m\u001b[43m \u001b[49m\u001b[38;5;124;43m\"\u001b[39;49m\u001b[38;5;124;43mcolumns\u001b[39;49m\u001b[38;5;124;43m\"\u001b[39;49m\u001b[43m)\u001b[49m[\u001b[38;5;241m1\u001b[39m]\n\u001b[0;32m   3769\u001b[0m \u001b[38;5;66;03m# take() does not accept boolean indexers\u001b[39;00m\n\u001b[0;32m   3770\u001b[0m \u001b[38;5;28;01mif\u001b[39;00m \u001b[38;5;28mgetattr\u001b[39m(indexer, \u001b[38;5;124m\"\u001b[39m\u001b[38;5;124mdtype\u001b[39m\u001b[38;5;124m\"\u001b[39m, \u001b[38;5;28;01mNone\u001b[39;00m) \u001b[38;5;241m==\u001b[39m \u001b[38;5;28mbool\u001b[39m:\n",
      "File \u001b[1;32mc:\\Users\\Family-PC\\miniconda3\\envs\\thesis\\lib\\site-packages\\pandas\\core\\indexes\\base.py:5877\u001b[0m, in \u001b[0;36mIndex._get_indexer_strict\u001b[1;34m(self, key, axis_name)\u001b[0m\n\u001b[0;32m   5874\u001b[0m \u001b[38;5;28;01melse\u001b[39;00m:\n\u001b[0;32m   5875\u001b[0m     keyarr, indexer, new_indexer \u001b[38;5;241m=\u001b[39m \u001b[38;5;28mself\u001b[39m\u001b[38;5;241m.\u001b[39m_reindex_non_unique(keyarr)\n\u001b[1;32m-> 5877\u001b[0m \u001b[38;5;28;43mself\u001b[39;49m\u001b[38;5;241;43m.\u001b[39;49m\u001b[43m_raise_if_missing\u001b[49m\u001b[43m(\u001b[49m\u001b[43mkeyarr\u001b[49m\u001b[43m,\u001b[49m\u001b[43m \u001b[49m\u001b[43mindexer\u001b[49m\u001b[43m,\u001b[49m\u001b[43m \u001b[49m\u001b[43maxis_name\u001b[49m\u001b[43m)\u001b[49m\n\u001b[0;32m   5879\u001b[0m keyarr \u001b[38;5;241m=\u001b[39m \u001b[38;5;28mself\u001b[39m\u001b[38;5;241m.\u001b[39mtake(indexer)\n\u001b[0;32m   5880\u001b[0m \u001b[38;5;28;01mif\u001b[39;00m \u001b[38;5;28misinstance\u001b[39m(key, Index):\n\u001b[0;32m   5881\u001b[0m     \u001b[38;5;66;03m# GH 42790 - Preserve name from an Index\u001b[39;00m\n",
      "File \u001b[1;32mc:\\Users\\Family-PC\\miniconda3\\envs\\thesis\\lib\\site-packages\\pandas\\core\\indexes\\base.py:5938\u001b[0m, in \u001b[0;36mIndex._raise_if_missing\u001b[1;34m(self, key, indexer, axis_name)\u001b[0m\n\u001b[0;32m   5936\u001b[0m     \u001b[38;5;28;01mif\u001b[39;00m use_interval_msg:\n\u001b[0;32m   5937\u001b[0m         key \u001b[38;5;241m=\u001b[39m \u001b[38;5;28mlist\u001b[39m(key)\n\u001b[1;32m-> 5938\u001b[0m     \u001b[38;5;28;01mraise\u001b[39;00m \u001b[38;5;167;01mKeyError\u001b[39;00m(\u001b[38;5;124mf\u001b[39m\u001b[38;5;124m\"\u001b[39m\u001b[38;5;124mNone of [\u001b[39m\u001b[38;5;132;01m{\u001b[39;00mkey\u001b[38;5;132;01m}\u001b[39;00m\u001b[38;5;124m] are in the [\u001b[39m\u001b[38;5;132;01m{\u001b[39;00maxis_name\u001b[38;5;132;01m}\u001b[39;00m\u001b[38;5;124m]\u001b[39m\u001b[38;5;124m\"\u001b[39m)\n\u001b[0;32m   5940\u001b[0m not_found \u001b[38;5;241m=\u001b[39m \u001b[38;5;28mlist\u001b[39m(ensure_index(key)[missing_mask\u001b[38;5;241m.\u001b[39mnonzero()[\u001b[38;5;241m0\u001b[39m]]\u001b[38;5;241m.\u001b[39munique())\n\u001b[0;32m   5941\u001b[0m \u001b[38;5;28;01mraise\u001b[39;00m \u001b[38;5;167;01mKeyError\u001b[39;00m(\u001b[38;5;124mf\u001b[39m\u001b[38;5;124m\"\u001b[39m\u001b[38;5;132;01m{\u001b[39;00mnot_found\u001b[38;5;132;01m}\u001b[39;00m\u001b[38;5;124m not in index\u001b[39m\u001b[38;5;124m\"\u001b[39m)\n",
      "\u001b[1;31mKeyError\u001b[0m: \"None of [Index(['toxic', 'severe_toxic', 'obscene', 'threat', 'insult',\\n       'identity_hate'],\\n      dtype='object')] are in the [columns]\""
     ]
    }
   ],
   "source": [
    "# train_data['isToxic'] = train_data[['toxic', 'severe_toxic' , 'threat' , 'insult']].any(axis=1).astype(int)\n",
    "train_data['isToxic'] = train_data[['toxic', 'severe_toxic', 'obscene', 'threat', 'insult', 'identity_hate']].any(axis=1).astype(int)"
   ]
  },
  {
   "cell_type": "code",
   "execution_count": null,
   "metadata": {},
   "outputs": [
    {
     "name": "stdout",
     "output_type": "stream",
     "text": [
      "38909079\n"
     ]
    }
   ],
   "source": [
    "# Select only the required columns\n",
    "train_data = train_data[['comment_text', 'isToxic']]\n",
    "\n",
    "total_Characters = train_data['comment_text'].apply(len).sum()\n",
    "\n",
    "print(total_Characters)"
   ]
  },
  {
   "cell_type": "code",
   "execution_count": null,
   "metadata": {},
   "outputs": [
    {
     "name": "stdout",
     "output_type": "stream",
     "text": [
      "Counts of 0 and 1 in the 'isToxic' column:\n",
      "isToxic\n",
      "0    143346\n",
      "1     16225\n",
      "Name: count, dtype: int64\n",
      "Percentage of 0 and 1 in the 'isToxic' column:\n",
      "isToxic\n",
      "0    89.832112\n",
      "1    10.167888\n",
      "Name: count, dtype: float64\n",
      "The dataset is not balanced.\n"
     ]
    }
   ],
   "source": [
    "train_data.head(20)\n",
    "\n",
    "# Assuming train_data is your DataFrame and 'isToxic' is the column with 0 and 1 values\n",
    "toxic_counts = train_data['isToxic'].value_counts()\n",
    "print(\"Counts of 0 and 1 in the 'isToxic' column:\")\n",
    "print(toxic_counts)\n",
    "\n",
    "# Optionally, calculate the percentage of each category to see the balance more clearly\n",
    "toxic_percentage = toxic_counts / len(train_data) * 100\n",
    "print(\"Percentage of 0 and 1 in the 'isToxic' column:\")\n",
    "print(toxic_percentage)\n",
    "\n",
    "# Check if the dataset is balanced\n",
    "if abs(toxic_counts[0] - toxic_counts[1]) < 0.1 * len(train_data):\n",
    "    print(\"The dataset is relatively balanced.\")\n",
    "else:\n",
    "    print(\"The dataset is not balanced.\")"
   ]
  },
  {
   "cell_type": "code",
   "execution_count": null,
   "metadata": {},
   "outputs": [
    {
     "name": "stdout",
     "output_type": "stream",
     "text": [
      "Current total characters: 38909079\n",
      "Final dataset size by characters: 399462\n",
      "Final counts of each class: isToxic\n",
      "1    1056\n",
      "0     786\n",
      "Name: count, dtype: int64\n"
     ]
    }
   ],
   "source": [
    "import pandas as pd\n",
    "\n",
    "# Assuming train_data is your DataFrame with 'comment_text' and 'isToxic' columns\n",
    "def calculate_total_characters(df):\n",
    "    return df['comment_text'].apply(len).sum()\n",
    "\n",
    "# Calculate current total characters\n",
    "current_total_characters = calculate_total_characters(train_data)\n",
    "print(f\"Current total characters: {current_total_characters}\")\n",
    "\n",
    "# Define your new character limit\n",
    "character_limit = 400000\n",
    "\n",
    "# Filter data by class\n",
    "non_toxic = train_data[train_data['isToxic'] == 0]\n",
    "toxic = train_data[train_data['isToxic'] == 1]\n",
    "\n",
    "# Calculate characters for each class\n",
    "non_toxic_chars = calculate_total_characters(non_toxic)\n",
    "toxic_chars = calculate_total_characters(toxic)\n",
    "\n",
    "# Determine new character counts based on desired total and balance\n",
    "# We try to balance the dataset while staying under the limit\n",
    "desired_non_toxic_chars = min(non_toxic_chars, character_limit // 2)\n",
    "desired_toxic_chars = min(toxic_chars, character_limit // 2)\n",
    "\n",
    "# Function to sample rows by character limit\n",
    "def sample_by_character_limit(df, max_chars):\n",
    "    sampled_df = pd.DataFrame()\n",
    "    current_chars = 0\n",
    "    while current_chars < max_chars:\n",
    "        row = df.sample(n=1)\n",
    "        row_chars = len(row['comment_text'].iloc[0])\n",
    "        if current_chars + row_chars > max_chars:\n",
    "            break\n",
    "        sampled_df = pd.concat([sampled_df, row])\n",
    "        current_chars += row_chars\n",
    "    return sampled_df\n",
    "\n",
    "# Perform sampling\n",
    "balanced_non_toxic = sample_by_character_limit(non_toxic, desired_non_toxic_chars)\n",
    "balanced_toxic = sample_by_character_limit(toxic, desired_toxic_chars)\n",
    "\n",
    "# Combine the sampled data\n",
    "balanced_train_data = pd.concat([balanced_non_toxic, balanced_toxic])\n",
    "\n",
    "# print(f\"Final dataset size by characters: {calculate_total_characters(balanced_train_data)}\")\n",
    "# print(f\"Final counts of each class: {balanced_train_data['isToxic'].value_counts()}\")"
   ]
  },
  {
   "cell_type": "code",
   "execution_count": null,
   "metadata": {},
   "outputs": [
    {
     "data": {
      "text/html": [
       "<div>\n",
       "<style scoped>\n",
       "    .dataframe tbody tr th:only-of-type {\n",
       "        vertical-align: middle;\n",
       "    }\n",
       "\n",
       "    .dataframe tbody tr th {\n",
       "        vertical-align: top;\n",
       "    }\n",
       "\n",
       "    .dataframe thead th {\n",
       "        text-align: right;\n",
       "    }\n",
       "</style>\n",
       "<table border=\"1\" class=\"dataframe\">\n",
       "  <thead>\n",
       "    <tr style=\"text-align: right;\">\n",
       "      <th></th>\n",
       "      <th>comment_text</th>\n",
       "      <th>isToxic</th>\n",
       "    </tr>\n",
       "  </thead>\n",
       "  <tbody>\n",
       "    <tr>\n",
       "      <th>18490</th>\n",
       "      <td>STOP EDITING POSTS DIPSHIT RIGHT STATE OPINION...</td>\n",
       "      <td>1</td>\n",
       "    </tr>\n",
       "    <tr>\n",
       "      <th>36069</th>\n",
       "      <td>message newyorkbrad Great stuck friends arbcom...</td>\n",
       "      <td>1</td>\n",
       "    </tr>\n",
       "    <tr>\n",
       "      <th>34529</th>\n",
       "      <td>Jews right expel Arab invaders homeland believ...</td>\n",
       "      <td>1</td>\n",
       "    </tr>\n",
       "    <tr>\n",
       "      <th>92524</th>\n",
       "      <td>Reverting valid edits vandalism Calling valid ...</td>\n",
       "      <td>1</td>\n",
       "    </tr>\n",
       "    <tr>\n",
       "      <th>73700</th>\n",
       "      <td>fuck fee umberella joke made sources let post ...</td>\n",
       "      <td>1</td>\n",
       "    </tr>\n",
       "    <tr>\n",
       "      <th>103483</th>\n",
       "      <td>really tried make sense comments Joni Mitchell...</td>\n",
       "      <td>1</td>\n",
       "    </tr>\n",
       "    <tr>\n",
       "      <th>127325</th>\n",
       "      <td>mena TOTAL BULLYING LITTLE HITLER CAM WEBSITE ...</td>\n",
       "      <td>1</td>\n",
       "    </tr>\n",
       "    <tr>\n",
       "      <th>26012</th>\n",
       "      <td>EPISODES SINCE MARCH  DUMBASSES</td>\n",
       "      <td>1</td>\n",
       "    </tr>\n",
       "    <tr>\n",
       "      <th>55352</th>\n",
       "      <td>shut fuck upi know switch ip addresses dumb fu...</td>\n",
       "      <td>1</td>\n",
       "    </tr>\n",
       "    <tr>\n",
       "      <th>129370</th>\n",
       "      <td>really think known since forever idiot</td>\n",
       "      <td>1</td>\n",
       "    </tr>\n",
       "    <tr>\n",
       "      <th>11092</th>\n",
       "      <td>lede time concensus someone taken upon themsle...</td>\n",
       "      <td>1</td>\n",
       "    </tr>\n",
       "    <tr>\n",
       "      <th>96070</th>\n",
       "      <td>may want suggest add blocking hours actually c...</td>\n",
       "      <td>1</td>\n",
       "    </tr>\n",
       "    <tr>\n",
       "      <th>137234</th>\n",
       "      <td>blocked reason needing learn idiot fuck idiot ...</td>\n",
       "      <td>1</td>\n",
       "    </tr>\n",
       "    <tr>\n",
       "      <th>3008</th>\n",
       "      <td>Hey Roy Go fukk gay bich Ya heard Pussy</td>\n",
       "      <td>1</td>\n",
       "    </tr>\n",
       "    <tr>\n",
       "      <th>80030</th>\n",
       "      <td>go fuck yourselfgo fuck yourselfgo fuck yourse...</td>\n",
       "      <td>1</td>\n",
       "    </tr>\n",
       "    <tr>\n",
       "      <th>93899</th>\n",
       "      <td>User BadtoGod trying warn vandalsious edits at...</td>\n",
       "      <td>1</td>\n",
       "    </tr>\n",
       "    <tr>\n",
       "      <th>28633</th>\n",
       "      <td>HONDASAREGOODSEZ FIRSTI NIGGER SWINGING TREE G...</td>\n",
       "      <td>1</td>\n",
       "    </tr>\n",
       "    <tr>\n",
       "      <th>152949</th>\n",
       "      <td>bloody damn joke half dozen censors ready spen...</td>\n",
       "      <td>1</td>\n",
       "    </tr>\n",
       "    <tr>\n",
       "      <th>70475</th>\n",
       "      <td>Complete monopoly pro Russian shitheads crimea...</td>\n",
       "      <td>1</td>\n",
       "    </tr>\n",
       "    <tr>\n",
       "      <th>60991</th>\n",
       "      <td>also fat unfunny crosseyed faggot nerd</td>\n",
       "      <td>1</td>\n",
       "    </tr>\n",
       "  </tbody>\n",
       "</table>\n",
       "</div>"
      ],
      "text/plain": [
       "                                             comment_text  isToxic\n",
       "18490   STOP EDITING POSTS DIPSHIT RIGHT STATE OPINION...        1\n",
       "36069   message newyorkbrad Great stuck friends arbcom...        1\n",
       "34529   Jews right expel Arab invaders homeland believ...        1\n",
       "92524   Reverting valid edits vandalism Calling valid ...        1\n",
       "73700   fuck fee umberella joke made sources let post ...        1\n",
       "103483  really tried make sense comments Joni Mitchell...        1\n",
       "127325  mena TOTAL BULLYING LITTLE HITLER CAM WEBSITE ...        1\n",
       "26012                    EPISODES SINCE MARCH  DUMBASSES         1\n",
       "55352   shut fuck upi know switch ip addresses dumb fu...        1\n",
       "129370            really think known since forever idiot         1\n",
       "11092   lede time concensus someone taken upon themsle...        1\n",
       "96070   may want suggest add blocking hours actually c...        1\n",
       "137234  blocked reason needing learn idiot fuck idiot ...        1\n",
       "3008              Hey Roy Go fukk gay bich Ya heard Pussy        1\n",
       "80030   go fuck yourselfgo fuck yourselfgo fuck yourse...        1\n",
       "93899   User BadtoGod trying warn vandalsious edits at...        1\n",
       "28633   HONDASAREGOODSEZ FIRSTI NIGGER SWINGING TREE G...        1\n",
       "152949  bloody damn joke half dozen censors ready spen...        1\n",
       "70475   Complete monopoly pro Russian shitheads crimea...        1\n",
       "60991              also fat unfunny crosseyed faggot nerd        1"
      ]
     },
     "execution_count": 52,
     "metadata": {},
     "output_type": "execute_result"
    }
   ],
   "source": [
    "# balanced_train_data.tail(20)"
   ]
  },
  {
   "cell_type": "code",
   "execution_count": null,
   "metadata": {},
   "outputs": [
    {
     "data": {
      "text/html": [
       "<div>\n",
       "<style scoped>\n",
       "    .dataframe tbody tr th:only-of-type {\n",
       "        vertical-align: middle;\n",
       "    }\n",
       "\n",
       "    .dataframe tbody tr th {\n",
       "        vertical-align: top;\n",
       "    }\n",
       "\n",
       "    .dataframe thead th {\n",
       "        text-align: right;\n",
       "    }\n",
       "</style>\n",
       "<table border=\"1\" class=\"dataframe\">\n",
       "  <thead>\n",
       "    <tr style=\"text-align: right;\">\n",
       "      <th></th>\n",
       "      <th>comment_text</th>\n",
       "      <th>isToxic</th>\n",
       "    </tr>\n",
       "  </thead>\n",
       "  <tbody>\n",
       "    <tr>\n",
       "      <th>36902</th>\n",
       "      <td>problems page copy edit iron extent please all...</td>\n",
       "      <td>0</td>\n",
       "    </tr>\n",
       "    <tr>\n",
       "      <th>65077</th>\n",
       "      <td>think AI read facts erase every detail enemy A...</td>\n",
       "      <td>0</td>\n",
       "    </tr>\n",
       "    <tr>\n",
       "      <th>19400</th>\n",
       "      <td>think may typo overzealous Californian writing...</td>\n",
       "      <td>0</td>\n",
       "    </tr>\n",
       "    <tr>\n",
       "      <th>139227</th>\n",
       "      <td>Tahirids Saffarids Samanids etc Wikipedias His...</td>\n",
       "      <td>0</td>\n",
       "    </tr>\n",
       "    <tr>\n",
       "      <th>34353</th>\n",
       "      <td>pls advertise ty copeartion Bot</td>\n",
       "      <td>0</td>\n",
       "    </tr>\n",
       "    <tr>\n",
       "      <th>80955</th>\n",
       "      <td>Fair enough understand opinionsthoughts must s...</td>\n",
       "      <td>0</td>\n",
       "    </tr>\n",
       "    <tr>\n",
       "      <th>131912</th>\n",
       "      <td>ARIN WHOIS database information OAISD website ...</td>\n",
       "      <td>0</td>\n",
       "    </tr>\n",
       "    <tr>\n",
       "      <th>74492</th>\n",
       "      <td>said scholars ie commentators obviously primar...</td>\n",
       "      <td>0</td>\n",
       "    </tr>\n",
       "    <tr>\n",
       "      <th>143441</th>\n",
       "      <td>editor removed protection template also remove...</td>\n",
       "      <td>0</td>\n",
       "    </tr>\n",
       "    <tr>\n",
       "      <th>53529</th>\n",
       "      <td>clear ever read book Irish history famine see ...</td>\n",
       "      <td>0</td>\n",
       "    </tr>\n",
       "    <tr>\n",
       "      <th>44463</th>\n",
       "      <td>allegations cat</td>\n",
       "      <td>0</td>\n",
       "    </tr>\n",
       "    <tr>\n",
       "      <th>111268</th>\n",
       "      <td>Actually one earlier yeah Underride</td>\n",
       "      <td>0</td>\n",
       "    </tr>\n",
       "    <tr>\n",
       "      <th>124131</th>\n",
       "      <td>world bank published academic resource accepta...</td>\n",
       "      <td>0</td>\n",
       "    </tr>\n",
       "    <tr>\n",
       "      <th>50764</th>\n",
       "      <td>Mirv think anyone made claim hand insist POV e...</td>\n",
       "      <td>0</td>\n",
       "    </tr>\n",
       "    <tr>\n",
       "      <th>157158</th>\n",
       "      <td>Well might mind Andrew Lang page one mess Grim...</td>\n",
       "      <td>0</td>\n",
       "    </tr>\n",
       "    <tr>\n",
       "      <th>89216</th>\n",
       "      <td>obvious English wikipediaBut using latin alpha...</td>\n",
       "      <td>0</td>\n",
       "    </tr>\n",
       "    <tr>\n",
       "      <th>109974</th>\n",
       "      <td>Gwen Gale could come better time really need w...</td>\n",
       "      <td>0</td>\n",
       "    </tr>\n",
       "    <tr>\n",
       "      <th>28456</th>\n",
       "      <td>open talk discussion based disputed edit talk ...</td>\n",
       "      <td>0</td>\n",
       "    </tr>\n",
       "    <tr>\n",
       "      <th>101644</th>\n",
       "      <td>source say Palestine must use source say</td>\n",
       "      <td>0</td>\n",
       "    </tr>\n",
       "    <tr>\n",
       "      <th>2748</th>\n",
       "      <td>name possible attack site</td>\n",
       "      <td>0</td>\n",
       "    </tr>\n",
       "  </tbody>\n",
       "</table>\n",
       "</div>"
      ],
      "text/plain": [
       "                                             comment_text  isToxic\n",
       "36902   problems page copy edit iron extent please all...        0\n",
       "65077   think AI read facts erase every detail enemy A...        0\n",
       "19400   think may typo overzealous Californian writing...        0\n",
       "139227  Tahirids Saffarids Samanids etc Wikipedias His...        0\n",
       "34353                     pls advertise ty copeartion Bot        0\n",
       "80955   Fair enough understand opinionsthoughts must s...        0\n",
       "131912  ARIN WHOIS database information OAISD website ...        0\n",
       "74492   said scholars ie commentators obviously primar...        0\n",
       "143441  editor removed protection template also remove...        0\n",
       "53529   clear ever read book Irish history famine see ...        0\n",
       "44463                                   allegations cat          0\n",
       "111268                Actually one earlier yeah Underride        0\n",
       "124131  world bank published academic resource accepta...        0\n",
       "50764   Mirv think anyone made claim hand insist POV e...        0\n",
       "157158  Well might mind Andrew Lang page one mess Grim...        0\n",
       "89216   obvious English wikipediaBut using latin alpha...        0\n",
       "109974  Gwen Gale could come better time really need w...        0\n",
       "28456   open talk discussion based disputed edit talk ...        0\n",
       "101644           source say Palestine must use source say        0\n",
       "2748                            name possible attack site        0"
      ]
     },
     "execution_count": 53,
     "metadata": {},
     "output_type": "execute_result"
    }
   ],
   "source": [
    "# balanced_train_data.head(20)"
   ]
  },
  {
   "cell_type": "code",
   "execution_count": null,
   "metadata": {},
   "outputs": [
    {
     "name": "stdout",
     "output_type": "stream",
     "text": [
      "                                        comment_text  isToxic\n",
      "0  Explanation edits made Hardcore Metallica Fan ...        0\n",
      "1  Daww matches background colour seemingly stuck...        0\n",
      "2  Hey man really trying edit war guy constantly ...        0\n",
      "3  make real suggestions improvement wondered sec...        0\n",
      "4                      sir hero chance remember page        0\n",
      "5           Congratulations well use tools well talk        0\n",
      "6                        COCKSUCKER PISS AROUND WORK        1\n",
      "7  vandalism Matt Shirvington article reverted Pl...        0\n",
      "8  Sorry word nonsense offensive Anyway intending...        0\n",
      "9               alignment subject contrary DuLithgow        0\n"
     ]
    }
   ],
   "source": [
    "from google.cloud import translate_v2 as translate\n",
    "\n",
    "# Set up Google Cloud credentials (replace 'path_to_your_credentials.json' with the actual path)\n",
    "os.environ[\"GOOGLE_APPLICATION_CREDENTIALS\"] = 'GoogleKey/TranslationKey.json'\n",
    "\n",
    "# Initialize the translation client\n",
    "translate_client = translate.Client()\n",
    "\n",
    "# Function to translate text\n",
    "def translate_text(text, target_language='mt'):\n",
    "    if isinstance(text, str):\n",
    "        result = translate_client.translate(text, target_language=target_language)\n",
    "        return result['translatedText']\n",
    "    else:\n",
    "        return text\n",
    "\n",
    "\n",
    "## Translate the balanced dataset\n",
    "balanced_train_data['comment_text'] = balanced_train_data['comment_text'].apply(lambda x: translate_text(x))\n",
    "\n",
    "# Combine the original English balanced data and translated Maltese data\n",
    "combined_data = pd.concat([train_data[['comment_text', 'isToxic']], balanced_train_data[['comment_text', 'isToxic']]])\n",
    "\n",
    "# Print some examples of the combined data\n",
    "print(balanced_train_data.head(10))\n"
   ]
  },
  {
   "cell_type": "code",
   "execution_count": null,
   "metadata": {},
   "outputs": [],
   "source": [
    "combined_data.to_csv('MixedDataset/combined_data_backup.csv', index=False)\n",
    "combined_data.to_csv('MixedDataset/combined_data.csv', index=False)\n",
    "balanced_train_data.to_csv('Dataset_Maltese/maltese_data_backup.csv',index=False)\n",
    "balanced_train_data.to_csv('Dataset_Maltese/maltese_data.csv',index=False)\n",
    "train_data.to_csv('Dataset_English/english_data_backup.csv', index=False)\n",
    "train_data.to_csv('Dataset_English/english_data.csv', index=False)"
   ]
  },
  {
   "cell_type": "code",
   "execution_count": null,
   "metadata": {},
   "outputs": [
    {
     "name": "stdout",
     "output_type": "stream",
     "text": [
      "                                             comment_text  isToxic\n",
      "11092   lede time concensus xi ħadd meħuda fuqhom ħass...        1\n",
      "96070   jista &#39;jixtieq jissuġġerixxi żid sigħat im...        1\n",
      "137234  imblukkata raġuni bżonn jitgħallmu idjota fuck...        1\n",
      "3008             Ħej Roy Mur fukk gay bich Ya smajt Pussy        1\n",
      "80030   mur hack lilek innifsekmur hack lilek innifsek...        1\n",
      "93899   Utent BadtoGod qed jipprova jwissi modifiki va...        1\n",
      "28633   HONDASAREGOODSEZ FIRSTI NIGGER SWINGING TREE G...        1\n",
      "152949  ċajta imdemmi nofs tużżana ċensuri lesti jqatt...        1\n",
      "70475   Tlesti monopolju pro Russu shitheads crimea ar...        1\n",
      "60991            wkoll xaħam unfunny crosseyed fagot nerd        1\n"
     ]
    }
   ],
   "source": [
    "# Print some examples of the combined data\n",
    "print(balanced_train_data.tail(10))"
   ]
  },
  {
   "cell_type": "code",
   "execution_count": null,
   "metadata": {},
   "outputs": [
    {
     "data": {
      "image/png": "[encoded data removed]",
      "text/plain": [
       "<Figure size 1400x600 with 2 Axes>"
      ]
     },
     "metadata": {},
     "output_type": "display_data"
    },
    {
     "data": {
      "image/png": "[encoded data removed]",
      "text/plain": [
       "<Figure size 1400x600 with 2 Axes>"
      ]
     },
     "metadata": {},
     "output_type": "display_data"
    }
   ],
   "source": [
    "import pandas as pd\n",
    "import matplotlib.pyplot as plt\n",
    "import seaborn as sns\n",
    "\n",
    "# Assuming the previous code block has been executed and `balanced_train_data` is available\n",
    "\n",
    "# Plot the counts of each class before and after balancing\n",
    "fig, axes = plt.subplots(nrows=1, ncols=2, figsize=(14, 6))\n",
    "\n",
    "# Original data count plot\n",
    "sns.countplot(x=train_data['isToxic'], ax=axes[0])\n",
    "axes[0].set_title('Original Data - Counts of Each Class')\n",
    "axes[0].set_xlabel('Class')\n",
    "axes[0].set_ylabel('Count')\n",
    "\n",
    "# Balanced data count plot\n",
    "sns.countplot(x=balanced_train_data['isToxic'], ax=axes[1])\n",
    "axes[1].set_title('Balanced Data - Counts of Each Class')\n",
    "axes[1].set_xlabel('Class')\n",
    "axes[1].set_ylabel('Count')\n",
    "\n",
    "plt.show()\n",
    "\n",
    "# Plotting character counts\n",
    "fig, axes = plt.subplots(nrows=1, ncols=2, figsize=(14, 6))\n",
    "\n",
    "# Original character distribution\n",
    "original_chars = [calculate_total_characters(train_data[train_data['isToxic'] == 0]),\n",
    "                  calculate_total_characters(train_data[train_data['isToxic'] == 1])]\n",
    "axes[0].bar(['Non-Toxic (0)', 'Toxic (1)'], original_chars)\n",
    "axes[0].set_title('Original Data - Character Distribution')\n",
    "axes[0].set_xlabel('Class')\n",
    "axes[0].set_ylabel('Total Characters')\n",
    "\n",
    "# Balanced character distribution\n",
    "balanced_chars = [calculate_total_characters(balanced_train_data[balanced_train_data['isToxic'] == 0]),\n",
    "                  calculate_total_characters(balanced_train_data[balanced_train_data['isToxic'] == 1])]\n",
    "axes[1].bar(['Non-Toxic (0)', 'Toxic (1)'], balanced_chars)\n",
    "axes[1].set_title('Balanced Data - Character Distribution')\n",
    "axes[1].set_xlabel('Class')\n",
    "axes[1].set_ylabel('Total Characters')\n",
    "\n",
    "plt.show()\n"
   ]
  }
 ],
 "metadata": {
  "kernelspec": {
   "display_name": "thesis",
   "language": "python",
   "name": "python3"
  },
  "language_info": {
   "codemirror_mode": {
    "name": "ipython",
    "version": 3
   },
   "file_extension": ".py",
   "mimetype": "text/x-python",
   "name": "python",
   "nbconvert_exporter": "python",
   "pygments_lexer": "ipython3",
   "version": "3.8.19"
  }
 },
 "nbformat": 4,
 "nbformat_minor": 2
}
