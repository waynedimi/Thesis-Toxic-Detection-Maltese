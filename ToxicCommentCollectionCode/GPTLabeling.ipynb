{
 "cells": [
  {
   "cell_type": "markdown",
   "metadata": {},
   "source": [
    "# Labeling"
   ]
  },
  {
   "cell_type": "code",
   "execution_count": 1,
   "metadata": {},
   "outputs": [],
   "source": [
    "import os\n",
    "import pandas as pd\n",
    "# new\n",
    "from openai import OpenAI\n",
    "\n",
    "client = OpenAI(api_key='EMPTY') #This API key was deleted/changed so it's a defective key (To other programmers \"Get your own damn key :P\")"
   ]
  },
  {
   "cell_type": "code",
   "execution_count": 4,
   "metadata": {},
   "outputs": [
    {
     "name": "stdout",
     "output_type": "stream",
     "text": [
      "The longest comment is:\n",
      "yuck mhux ta bxejn iżżgħażagħ kważi kollha qed jitilqu minn malta minbarra lġaħans dażgur li kieku mawnx il baranin malta spicuta u ghalxejn dal muqran mz jikteb fuq fb dawn agenda wahda ghandom li jkisru xoghol ara jsibux zaghzah jahdmu lisptar ma lanzjani fil konstucsion ma tat toroq jigbru liskart weiters lukandi ma tiqafx isemmi lil kieku jitilqu baranin malta tieqaf mhux hekk tgħid malta spiċċuta bilbarranin li hawn għax mhux xogħol denju qed jiġi provdut imma skjavitù u prekarjat biss apparti li malta li hija diġà overpopulated ma tiflaħx għallpopolazzjoni li hawn illum u mhux imbilli hawn ħafna propaganda qarrieqa li kollox miexi sew mhu veru xejn biss biss iddjun enormi ta malta li laħqu malil biljun ifissru biss li ssitwazzjoni hija insostenibbli unsustainable ifisser sovereign default li lgvern ma jistax iħallas iddjun tiegħu dak li ġara fmalta imma lġaħans jifirħu ____ jekk ma tridx li jikumentaw ghal vojtagni tieghek misshek ma tkiebtx xejn mal ewwel tafmin huma it trolls min jigdeb u iparla fil vojt ara jien u dan or ragel li qed jitkellem nafu xigifieri vojta u idjoti intom u dak li tippostjaw u mgħandkom lebda statistika ujew referenzi serji jiġifieri mhux maħruġa milllejber landfill ta dak li tiktbu xejn għax kulma tagħmlu tirrepetu bħal pappagalli dak li tibilgħu u jbellgħulkom talgħaqda ta kriminali u assassini li hemm filpoter xejn iżjed kieku tafu xqed tgħidu kontu tgħidu kollox iva nerġa u nibqa ntenni li żżgħażagħ maltin speċjalment dawk li ħadu edukazzjoni għolja u terzjarja jitilqu minn malta qegħdin imma lġaħans u dawk ta ftit edukazzjoni jikkuntentaw billowerendjobs prekarjat eċċ eċċ ghoqod hemm ja imdejqa taht gahan sevtibqa ghal snin twalmhuxvtaht gvern nazzist halil jaqaw ma kontx thalsu il kont tad dawl hu lilmajew ma kontx tixghalcucc kollok imdejqa lġaħans lidjoti u lboloh tallejber landfill għax jiġu wżati bħattoilet paper imbagħad jintremew u kif jgħid ilmalti liblah taqlagħlu għajnejh u jifraħ hekk tagħmlu intom tifirħu billoqom ta u żżibel li hemm filpoter jisirqu lbiljuni dik li ma jistswx jiefmu hu bil fors iridu jigu il barranien ghax il poplazjoni maltija naqset ghalhekk ghaw hafna xjuh hu trid tonqos aktar bil kemm jiextru wiehed lum zibel int hu min ghandekkemm int hadra tghajjar lin nies zibeliz zibel qieghad fil partit tieghak ja indanata hu jekk ma joghogbokx tghejx taht iz zibel itlaq żibel iva llabour żibel għax għal darboħra reġa avvelixxa lil malta maddinja kollha u ma baqax iżjed partit politiku imma sar gang ta korrotti kriminali u assassini u lfamużi ġaħans u dan kollu ħadd ma jista jmerih ħadd u minn dejjem hekk kien u min għandu problema bilverità aħjar jiddielja magħha u jaċċetta lverità għax għalkemm ilverità tweġġa imma finalment tillibera ___ catherine desira ma nafx fejn qe d tara iz zghzagh sejrin min malta jien tipruvaw min kollox id dahhlu fil mohhi ta nies biex jidher ikrah il partit ha nghajdlek jien nahdem go hotel partikolari go malta u mhux vera il maltin irridu jahdmu dan is settur u ma intijhomx tort ta ghax bhali li jien omm u nghati dak kollu lil uliedi biex issibu xol mil aqwa mhux ha niehu pjacir narhom go hotel jew fabricail lum il gurnata it tfal tghana kollha studji biex ikollhom xol xieraq u dak li qed jigri certu xol hawn malta hadd ma sar irrid jghamlu u bil fors xi hadd irrid jghamlu sinjal li ma taqrax u tisma biss ilmedia tallejber landfill la għadek ma ndunajtx u wara kollox ilposts tiegħi ma niktibhomx għal ġaħans u ttrolls take note proset taf xinti tighd min jitkellem fil vojt min wara il kboard lanqas bis ghandu idea tax xoghol jien kont fuq dak ix xoghol bhal tighak kelli inzarma ghax lebda malti ma sib biex jahdem u mux imbili jaghjdu ghax ma jithalsux tajjeb illum chef trid itieh euro sija lanqas int ma taqlahom u xorta ma sibx dan kemm ilhu sorry ta ghax jien ghadni fdan is settur u nahseb ta taf xinti tghajt taf min hu gahan u trolls sinjura min ghandhu mohhu maluq bhal tieghek ghax trid tkun mara injoranta tghajjar lil haddiehor meta haddiehor ma ghajrekx prosit hafna educafion high level ghandhek dil krizi ilgha ghadeja mit li ma sibx maltin jahdmu go restoranti imma issa kull setur mawnx maltin bis sengha la dak il bravu efa waqaf is snaja mil iskejjel dak il bravu kien waqafom fin s dik mod iehor jien tkellimt fuq it turizmu gol hotels li vera ma sibx nies ghandek ragun biex tbieh ghax ghadejt mingha kif isemilom il weekend jaghjdulek ahdem int fil weekend\n",
      "\n",
      "Length of the longest comment: 4432\n"
     ]
    }
   ],
   "source": [
    "import pandas as pd\n",
    "\n",
    "# Load your dataset\n",
    "df = pd.read_csv('Data_Collection/comments.csv', header=None, names=['comment'])\n",
    "\n",
    "# Calculate the length of each comment\n",
    "df['comment_length'] = df['comment'].apply(len)\n",
    "\n",
    "# Find the longest comment\n",
    "longest_comment = df.loc[df['comment_length'].idxmax()]\n",
    "\n",
    "# Print the longest comment and its length\n",
    "print(\"The longest comment is:\")\n",
    "print(longest_comment['comment'])\n",
    "print(\"\\nLength of the longest comment:\", longest_comment['comment_length'])"
   ]
  },
  {
   "cell_type": "code",
   "execution_count": 5,
   "metadata": {},
   "outputs": [],
   "source": [
    "# Function to classify a comment as toxic or non-toxic\n",
    "def classify_comment(comment):\n",
    "    response = client.chat.completions.create(\n",
    "        model=\"gpt-4o\",\n",
    "        messages=[\n",
    "            {\"role\": \"system\", \"content\": \"You are a helpful assistant that classifies comments as toxic or non-toxic in Maltese and provides a reason for the classification. Also, ensure to anonymize by removing surnames. Follow this structure in your response:\\n\\ncomments: <original comment>\\nreason: <reason for classification>\\nisToxic: <1 for toxic, 0 for non-toxic>\"},\n",
    "            {\"role\": \"user\", \"content\": f\"Classify the following comment as toxic or non-toxic, and provide a reason: {comment}\"}\n",
    "        ],\n",
    "        max_tokens=2000,\n",
    "        temperature=0.5,\n",
    "    )\n",
    "    classification_response = response.choices[0].message.content.strip().split('\\n')\n",
    "    comment_text = classification_response[0].replace('comments: ', '').strip()\n",
    "    reason = classification_response[1].replace('reason: ', '').strip() if len(classification_response) > 1 else \"\"\n",
    "    is_toxic = 1 if 'isToxic: 1' in classification_response[-1] else 0\n",
    "    return comment_text, reason, is_toxic"
   ]
  }
 ],
 "metadata": {
  "kernelspec": {
   "display_name": "thesis",
   "language": "python",
   "name": "python3"
  },
  "language_info": {
   "codemirror_mode": {
    "name": "ipython",
    "version": 3
   },
   "file_extension": ".py",
   "mimetype": "text/x-python",
   "name": "python",
   "nbconvert_exporter": "python",
   "pygments_lexer": "ipython3",
   "version": "3.8.19"
  }
 },
 "nbformat": 4,
 "nbformat_minor": 2
}
